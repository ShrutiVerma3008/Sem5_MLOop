{
 "cells": [
  {
   "cell_type": "markdown",
   "id": "37f23088",
   "metadata": {},
   "source": [
    "Project Title: Time series analysis of app reviews\n",
    "- Problem Statement: The goal is to analyze and predict trends and patterns in multilingual mobile app reviews over time, enabling insights into user sentiment evolution and potential future review dynamics.\n",
    "- Dataset Source: https://www.kaggle.com/datasets/pratyushpuri/multilingual-mobile-app-reviews-dataset-2025\n"
   ]
  },
  {
   "cell_type": "code",
   "execution_count": 1,
   "id": "64a329aa",
   "metadata": {},
   "outputs": [],
   "source": [
    "import numpy as numpy\n",
    "import pandas as pd "
   ]
  },
  {
   "cell_type": "code",
   "execution_count": 2,
   "id": "34b6f1e7",
   "metadata": {},
   "outputs": [
    {
     "data": {
      "text/plain": [
       "<bound method NDFrame.head of       review_id  user_id      app_name       app_category  \\\n",
       "0             1  1967825     MX Player     Travel & Local   \n",
       "1             2  9242600        Tinder         Navigation   \n",
       "2             3  7636477       Netflix             Dating   \n",
       "3             4   209031         Venmo       Productivity   \n",
       "4             5  7190293  Google Drive          Education   \n",
       "...         ...      ...           ...                ...   \n",
       "2509       2510  2322118      OneDrive           Business   \n",
       "2510       2511  2167693        Signal            Finance   \n",
       "2511       2512  5554467      OneDrive  Social Networking   \n",
       "2512       2513  8805125      Coursera  Social Networking   \n",
       "2513       2514  1099793         Venmo          Education   \n",
       "\n",
       "                                            review_text review_language  \\\n",
       "0     Qui doloribus consequuntur. Perspiciatis tempo...              no   \n",
       "1     Great app but too many ads, consider premium v...              ru   \n",
       "2     The interface could be better but overall good...              es   \n",
       "3     Latest update broke some features, please fix ...              vi   \n",
       "4     Perfect for daily use, highly recommend to eve...              tl   \n",
       "...                                                 ...             ...   \n",
       "2509  Счастье низкий пастух. Нож неожиданно поезд тр...              nl   \n",
       "2510  This app is amazing! Really love the new featu...              ms   \n",
       "2511  This app is amazing! Really love the new featu...              zh   \n",
       "2512  Invitare convincere pericoloso corsa fortuna. ...              da   \n",
       "2513  Latest update broke some features, please fix ...              it   \n",
       "\n",
       "      rating          review_date  verified_purchase     device_type  \\\n",
       "0        1.3  2024-10-09 19:26:40               True  Android Tablet   \n",
       "1        1.6  2024-06-21 17:29:40               True            iPad   \n",
       "2        3.6  2024-10-31 13:47:12               True            iPad   \n",
       "3        3.8  2025-03-12 06:16:22               True             iOS   \n",
       "4        3.2  2024-04-21 03:48:27               True            iPad   \n",
       "...      ...                  ...                ...             ...   \n",
       "2509     3.0  2023-11-23 01:07:30              False             iOS   \n",
       "2510     1.9  2025-06-05 16:42:20               True   Windows Phone   \n",
       "2511     3.4  2024-06-15 05:02:18               True  Android Tablet   \n",
       "2512     2.7  2023-12-02 01:41:31               True         Android   \n",
       "2513     2.1  2025-03-04 02:51:17               True         Android   \n",
       "\n",
       "      num_helpful_votes  user_age user_country        user_gender  app_version  \n",
       "0                    65      14.0        China             Female          1.4  \n",
       "1                   209      18.0      Germany               Male          8.9  \n",
       "2                   163      67.0      Nigeria               Male  2.8.37.5926  \n",
       "3                   664      66.0        India             Female         10.2  \n",
       "4                  1197      40.0  South Korea  Prefer not to say          4.7  \n",
       "...                 ...       ...          ...                ...          ...  \n",
       "2509                635      21.0     Malaysia         Non-binary   1.1.2-beta  \n",
       "2510               1127      38.0   Bangladesh                NaN     v12.0.80  \n",
       "2511                677      27.0     Pakistan                NaN  9.1.32.4821  \n",
       "2512                155      35.0        India                NaN      v8.9.13  \n",
       "2513               1040      26.0   Bangladesh  Prefer not to say          2.2  \n",
       "\n",
       "[2514 rows x 15 columns]>"
      ]
     },
     "execution_count": 2,
     "metadata": {},
     "output_type": "execute_result"
    }
   ],
   "source": [
    "df = pd.read_csv(\"multilingual_mobile_app_reviews_2025.csv\")\n",
    "df.head"
   ]
  },
  {
   "cell_type": "code",
   "execution_count": null,
   "id": "6b4bc7b3",
   "metadata": {},
   "outputs": [],
   "source": []
  }
 ],
 "metadata": {
  "kernelspec": {
   "display_name": "base",
   "language": "python",
   "name": "python3"
  },
  "language_info": {
   "codemirror_mode": {
    "name": "ipython",
    "version": 3
   },
   "file_extension": ".py",
   "mimetype": "text/x-python",
   "name": "python",
   "nbconvert_exporter": "python",
   "pygments_lexer": "ipython3",
   "version": "3.12.7"
  }
 },
 "nbformat": 4,
 "nbformat_minor": 5
}
